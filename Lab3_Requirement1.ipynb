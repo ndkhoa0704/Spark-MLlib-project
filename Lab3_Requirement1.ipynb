{
  "cells": [
    {
      "cell_type": "markdown",
      "metadata": {
        "id": "view-in-github",
        "colab_type": "text"
      },
      "source": [
        "<a href=\"https://colab.research.google.com/github/ndkhoa0704/Spark-MLlib-project/blob/main/Lab3_Requirement1.ipynb\" target=\"_parent\"><img src=\"https://colab.research.google.com/assets/colab-badge.svg\" alt=\"Open In Colab\"/></a>"
      ]
    },
    {
      "cell_type": "code",
      "source": [
        "#Installation\n",
        "!apt-get install openjdk-8-jdk-headless -qq > /dev/null\n",
        "!wget -q https://downloads.apache.org/spark/spark-3.2.1/spark-3.2.1-bin-hadoop3.2.tgz\n",
        "#unzip\n",
        "!tar xf spark-3.2.1-bin-hadoop3.2.tgz\n",
        "\n",
        "import os \n",
        "os.environ[\"JAVA_HOME\"] = \"/usr/lib/jvm/java-8-openjdk-amd64\"\n",
        "os.environ[\"SPARK_HOME\"] = \"/content/spark-3.2.1-bin-hadoop3.2\"\n",
        "\n",
        "!pip install -q findspark \n",
        "!pip install pyspark"
      ],
      "metadata": {
        "id": "TsET5wLYhvKc",
        "colab": {
          "base_uri": "https://localhost:8080/"
        },
        "outputId": "b7399b14-e482-45d1-973b-594fdd7759ae"
      },
      "execution_count": null,
      "outputs": [
        {
          "output_type": "stream",
          "name": "stdout",
          "text": [
            "Collecting pyspark\n",
            "  Downloading pyspark-3.2.1.tar.gz (281.4 MB)\n",
            "\u001b[K     |████████████████████████████████| 281.4 MB 30 kB/s \n",
            "\u001b[?25hCollecting py4j==0.10.9.3\n",
            "  Downloading py4j-0.10.9.3-py2.py3-none-any.whl (198 kB)\n",
            "\u001b[K     |████████████████████████████████| 198 kB 43.5 MB/s \n",
            "\u001b[?25hBuilding wheels for collected packages: pyspark\n",
            "  Building wheel for pyspark (setup.py) ... \u001b[?25l\u001b[?25hdone\n",
            "  Created wheel for pyspark: filename=pyspark-3.2.1-py2.py3-none-any.whl size=281853642 sha256=60b81fa3c09162cc8810187a414756d596162ac21ac202b00bc73f2ecbdf9a8c\n",
            "  Stored in directory: /root/.cache/pip/wheels/9f/f5/07/7cd8017084dce4e93e84e92efd1e1d5334db05f2e83bcef74f\n",
            "Successfully built pyspark\n",
            "Installing collected packages: py4j, pyspark\n",
            "Successfully installed py4j-0.10.9.3 pyspark-3.2.1\n"
          ]
        }
      ]
    },
    {
      "cell_type": "code",
      "source": [
        "from pyspark.sql import SparkSession\n",
        "import pyspark.sql.types as types\n",
        "import pyspark.sql.functions as f\n",
        "from pyspark.ml.feature import VectorAssembler\n",
        "from pyspark.ml.regression import LinearRegression, RandomForestRegressor, GBTRegressor\n",
        "from pyspark.ml.evaluation import RegressionEvaluator\n",
        "from pyspark.ml.tuning import CrossValidator, ParamGridBuilder\n",
        "\n",
        "spark = SparkSession.builder \\\n",
        "    .master(\"local\") \\\n",
        "    .appName(\"MLClassification\") \\\n",
        "    .getOrCreate()"
      ],
      "metadata": {
        "id": "6hX5ViIEieie"
      },
      "execution_count": null,
      "outputs": []
    },
    {
      "cell_type": "code",
      "execution_count": null,
      "metadata": {
        "id": "FKQyaI0S-jcH"
      },
      "outputs": [],
      "source": [
        "df = spark.read.load(path='./sales_train.csv', format='csv', header=True)"
      ]
    },
    {
      "cell_type": "code",
      "source": [
        "df.summary().show()"
      ],
      "metadata": {
        "colab": {
          "base_uri": "https://localhost:8080/"
        },
        "id": "Ni5LYZ1MRS3Q",
        "outputId": "8846d08d-4c63-4cd0-d238-7825e907756d"
      },
      "execution_count": null,
      "outputs": [
        {
          "output_type": "stream",
          "name": "stdout",
          "text": [
            "+-------+----------+------------------+------------------+------------------+------------------+------------------+\n",
            "|summary|      date|    date_block_num|           shop_id|           item_id|        item_price|      item_cnt_day|\n",
            "+-------+----------+------------------+------------------+------------------+------------------+------------------+\n",
            "|  count|    433007|            433007|            433007|            433007|            433007|            433007|\n",
            "|   mean|      null| 1.416554466786911| 31.06207059008284|10132.482278577483| 690.1704418760447|1.1699048745170402|\n",
            "| stddev|      null|1.0866857137854327|16.484756920519086| 6299.016624157135|1127.4827786801657|0.8870135398719058|\n",
            "|    min|01.01.2013|                 0|                 0|               100|              10.0|              -1.0|\n",
            "|    25%|      null|               0.0|              19.0|            4464.0|             200.0|               1.0|\n",
            "|    50%|      null|               1.0|              29.0|            9364.0|             399.0|               1.0|\n",
            "|    75%|      null|               2.0|              46.0|           15298.0|             699.0|               1.0|\n",
            "|    max|31.03.2013|                 3|                 8|              9999|            9998.0|               9.0|\n",
            "+-------+----------+------------------+------------------+------------------+------------------+------------------+\n",
            "\n"
          ]
        }
      ]
    },
    {
      "cell_type": "code",
      "source": [
        "df.show(10)"
      ],
      "metadata": {
        "colab": {
          "base_uri": "https://localhost:8080/"
        },
        "id": "nfGCisAkTN18",
        "outputId": "0559b242-67ea-4225-d0ce-44093bfe67ab"
      },
      "execution_count": null,
      "outputs": [
        {
          "output_type": "stream",
          "name": "stdout",
          "text": [
            "+----------+--------------+-------+-------+----------+------------+\n",
            "|      date|date_block_num|shop_id|item_id|item_price|item_cnt_day|\n",
            "+----------+--------------+-------+-------+----------+------------+\n",
            "|02.01.2013|             0|     59|  22154|     999.0|         1.0|\n",
            "|03.01.2013|             0|     25|   2552|     899.0|         1.0|\n",
            "|05.01.2013|             0|     25|   2552|     899.0|        -1.0|\n",
            "|06.01.2013|             0|     25|   2554|   1709.05|         1.0|\n",
            "|15.01.2013|             0|     25|   2555|    1099.0|         1.0|\n",
            "|10.01.2013|             0|     25|   2564|     349.0|         1.0|\n",
            "|02.01.2013|             0|     25|   2565|     549.0|         1.0|\n",
            "|04.01.2013|             0|     25|   2572|     239.0|         1.0|\n",
            "|11.01.2013|             0|     25|   2572|     299.0|         1.0|\n",
            "|03.01.2013|             0|     25|   2573|     299.0|         3.0|\n",
            "+----------+--------------+-------+-------+----------+------------+\n",
            "only showing top 10 rows\n",
            "\n"
          ]
        }
      ]
    },
    {
      "cell_type": "code",
      "execution_count": null,
      "metadata": {
        "id": "ID7EMPn1vftz"
      },
      "outputs": [],
      "source": [
        "# Preprocess\n",
        "def preprocess(df):\n",
        "    t = df.withColumn('shop_id', f.col('shop_id').cast(types.DoubleType())) \\\n",
        "    .withColumn('item_id', f.col('item_id').cast(types.DoubleType())) \\\n",
        "    .withColumn('item_price', f.col('item_price').cast(types.DoubleType())) \\\n",
        "    .withColumn('item_cnt_day', f.col('item_cnt_day').cast(types.DoubleType()))\n",
        "\n",
        "    # Get only rows with latest date\n",
        "    t2 = t.groupBy(f.col('shop_id').alias('shop_id_t'),f.col('item_id').alias('item_id_t')).agg(f.max('date').alias('date_t'))\n",
        "    cond = [t['shop_id'] == t2['shop_id_t'], t['item_id'] == t2['item_id_t'], t['date'] == t2['date_t']]\n",
        "    t = t.join(t2, cond).select('shop_id', 'item_id', 'item_price', 'item_cnt_day')\n",
        "\n",
        "    # Remove some unuseful rows\n",
        "    t = t.filter(f.col('item_cnt_day') >= 0).filter(f.col('item_price') >= 0)\n",
        "    return t\n",
        "\n",
        "df = preprocess(df)"
      ]
    },
    {
      "cell_type": "code",
      "execution_count": null,
      "metadata": {
        "id": "N_w1Yiaz3sTl"
      },
      "outputs": [],
      "source": [
        "# Vectorize\n",
        "vecAssembler = VectorAssembler(inputCols=['item_id', 'shop_id', 'item_price'], outputCol=\"features\")\n",
        "df = vecAssembler.transform(df)"
      ]
    },
    {
      "cell_type": "code",
      "source": [
        "# Split dataset\n",
        "train_set, test_set = df.randomSplit([0.7, 0.3], seed=2022)"
      ],
      "metadata": {
        "id": "c2LIxZQRsoD4"
      },
      "execution_count": null,
      "outputs": []
    },
    {
      "cell_type": "code",
      "source": [
        "# Regression evaluation function\n",
        "def RegEval(model, test_set):\n",
        "  res = model.transform(test_set)\n",
        "  evaluator = RegressionEvaluator(predictionCol='prediction', labelCol='item_cnt_day', metricName='rmse')\n",
        "  print('RMSE: ', evaluator.evaluate(res))\n",
        "  evaluator = RegressionEvaluator(predictionCol='prediction', labelCol='item_cnt_day', metricName='r2')\n",
        "  print('R^2: ', evaluator.evaluate(res))"
      ],
      "metadata": {
        "id": "YEMBa1skE8UJ"
      },
      "execution_count": null,
      "outputs": []
    },
    {
      "cell_type": "markdown",
      "source": [
        "# Model 1: Linear regression"
      ],
      "metadata": {
        "id": "DGiBDLTXCESD"
      }
    },
    {
      "cell_type": "code",
      "execution_count": null,
      "metadata": {
        "id": "DbuODE_o4OHA"
      },
      "outputs": [],
      "source": [
        "# Prepare model\n",
        "linear_model = LinearRegression(featuresCol='features', labelCol='item_cnt_day', regParam=0.05, elasticNetParam=0.1)\n",
        "\n",
        "# evaluator = RegressionEvaluator(labelCol=\"item_cnt_day\",\n",
        "#                                 predictionCol=\"prediction\",\n",
        "#                                 metricName=\"rmse\")\n",
        "\n",
        "# paramGrid = ParamGridBuilder().addGrid(linear_model.regParam, [0.05, 1, 0.2, 0.3]) \\\n",
        "#                               .addGrid(linear_model.elasticNetParam, [0.1, 0.2, 0.3, 0.5]).build()\n",
        "\n",
        "# cv = CrossValidator(estimator=linear_model, estimatorParamMaps=paramGrid, evaluator=evaluator, numFolds=5)"
      ]
    },
    {
      "cell_type": "code",
      "execution_count": null,
      "metadata": {
        "id": "fulC4BoD8CCG"
      },
      "outputs": [],
      "source": [
        "# Train\n",
        "# cvmodel = cv.fit(train_set)\n",
        "best_model_ln = linear_model.fit(train_set)"
      ]
    },
    {
      "cell_type": "code",
      "execution_count": null,
      "metadata": {
        "colab": {
          "base_uri": "https://localhost:8080/"
        },
        "id": "ffQ4nDle5hhY",
        "outputId": "d6815109-5aec-4bae-cedd-284cb1272794"
      },
      "outputs": [
        {
          "output_type": "stream",
          "name": "stdout",
          "text": [
            "RMSE:  0.30646794449774745\n",
            "R^2:  -1.6995792141205612e-05\n"
          ]
        }
      ],
      "source": [
        "# Evaluate\n",
        "# best_model_ln = cvmodel.bestModel\n",
        "RegEval(best_model_ln, test_set)"
      ]
    },
    {
      "cell_type": "markdown",
      "source": [
        "# Model 2: Random Forest Regression"
      ],
      "metadata": {
        "id": "gPY1kzYWCMh_"
      }
    },
    {
      "cell_type": "code",
      "execution_count": null,
      "metadata": {
        "id": "YuVU0fv2DFTk"
      },
      "outputs": [],
      "source": [
        "# Prepare model\n",
        "rfr = RandomForestRegressor(featuresCol='features', labelCol='item_cnt_day', numTrees=30)\n",
        "\n",
        "# evaluator = RegressionEvaluator(labelCol=\"item_cnt_day\",\n",
        "#                                 predictionCol=\"prediction\",\n",
        "#                                 metricName=\"rmse\")\n",
        "\n",
        "# paramGrid = ParamGridBuilder().addGrid(rfr.numTrees, [10, 20, 30, 40]).build()\n",
        "\n",
        "# cv = CrossValidator(estimator=rfr, estimatorParamMaps=paramGrid, evaluator=evaluator, numFolds=5)"
      ]
    },
    {
      "cell_type": "code",
      "execution_count": null,
      "metadata": {
        "id": "dN-3e3h7GbGn"
      },
      "outputs": [],
      "source": [
        "# Train\n",
        "# cvmodel = cv.fit(train_set)\n",
        "best_model_rfr = rfr.fit(train_set)"
      ]
    },
    {
      "cell_type": "code",
      "execution_count": null,
      "metadata": {
        "colab": {
          "base_uri": "https://localhost:8080/"
        },
        "id": "jqxO2N9Pj8q4",
        "outputId": "11b33a73-808c-4077-a6dd-e9b746403f59"
      },
      "outputs": [
        {
          "output_type": "stream",
          "name": "stdout",
          "text": [
            "RMSE:  0.3051755890811683\n",
            "R^2:  0.008399234802931144\n"
          ]
        }
      ],
      "source": [
        "# Evaluate\n",
        "# best_model_rfr = cvmodel.bestModel\n",
        "RegEval(best_model_rfr, test_set)"
      ]
    },
    {
      "cell_type": "markdown",
      "source": [
        "# Model 3: Gradient Boosted Regression"
      ],
      "metadata": {
        "id": "UElcI68Ekkkh"
      }
    },
    {
      "cell_type": "code",
      "source": [
        "# Prepare model\n",
        "gbt = GBTRegressor(featuresCol='features', labelCol='item_cnt_day', stepSize=0.1)\n",
        "# evaluator = RegressionEvaluator(labelCol=\"item_cnt_day\",\n",
        "#                                 predictionCol=\"prediction\",\n",
        "#                                 metricName=\"rmse\")\n",
        "\n",
        "# paramGrid = ParamGridBuilder().addGrid(gbt.maxDepth, stepSize=[0.1, 0.2, 0.5]).build()\n",
        "\n",
        "# cv = CrossValidator(estimator=gbt, estimatorParamMaps=paramGrid, evaluator=evaluator, numFolds=5)"
      ],
      "metadata": {
        "id": "fMsSuPGYeJ1d"
      },
      "execution_count": null,
      "outputs": []
    },
    {
      "cell_type": "code",
      "source": [
        "# Train\n",
        "# cvmodel = cv.fit(train_set)\n",
        "best_model_gbt = gbt.fit(train_set)"
      ],
      "metadata": {
        "id": "_AtlTJLReUwb"
      },
      "execution_count": null,
      "outputs": []
    },
    {
      "cell_type": "code",
      "source": [
        "# Evaluate\n",
        "# best_model_gbt = cvmodel.bestModel\n",
        "RegEval(best_model_gbt, test_set)"
      ],
      "metadata": {
        "colab": {
          "base_uri": "https://localhost:8080/"
        },
        "id": "6l6Ytwg1ei-f",
        "outputId": "f254c84e-e392-4528-b3bd-bef0a78b923e"
      },
      "execution_count": null,
      "outputs": [
        {
          "output_type": "stream",
          "name": "stdout",
          "text": [
            "RMSE:  0.304075477265893\n",
            "R^2:  0.015535490408298047\n"
          ]
        }
      ]
    }
  ],
  "metadata": {
    "colab": {
      "collapsed_sections": [],
      "name": "Lab3-Requirement1.ipynb",
      "provenance": [],
      "include_colab_link": true
    },
    "kernelspec": {
      "display_name": "Python 3",
      "name": "python3"
    },
    "language_info": {
      "name": "python"
    }
  },
  "nbformat": 4,
  "nbformat_minor": 0
}